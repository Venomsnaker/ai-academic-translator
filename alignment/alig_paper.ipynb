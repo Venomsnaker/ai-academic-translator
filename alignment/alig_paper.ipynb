{
 "cells": [
  {
   "cell_type": "markdown",
   "id": "e12d60c5",
   "metadata": {},
   "source": [
    "#### Set Up"
   ]
  },
  {
   "cell_type": "code",
   "execution_count": 1,
   "id": "8c9be971",
   "metadata": {},
   "outputs": [],
   "source": [
    "import nltk\n",
    "from nltk.tokenize import sent_tokenize\n",
    "import PyPDF2\n",
    "import pandas as pd"
   ]
  },
  {
   "cell_type": "code",
   "execution_count": 2,
   "id": "6c075168",
   "metadata": {},
   "outputs": [],
   "source": [
    "raw_en_path = \"../data/raw/diffusion_en.pdf\"\n",
    "raw_vi_path = \"../data/raw/diffusion_vi.pdf\"\n",
    "output_path = '../data/processed/data_02.csv'"
   ]
  },
  {
   "cell_type": "markdown",
   "id": "92395040",
   "metadata": {},
   "source": [
    "#### Data Alignment"
   ]
  },
  {
   "cell_type": "code",
   "execution_count": 3,
   "id": "9cc1cdb6",
   "metadata": {},
   "outputs": [],
   "source": [
    "def extract_text_from_pdf(pdf_path, lower_bound, upper_bound):\n",
    "    with open(pdf_path, 'rb') as f:\n",
    "        reader = PyPDF2.PdfReader(f)\n",
    "        text = ''\n",
    "\n",
    "        for page_num in range(lower_bound - 1, upper_bound):\n",
    "            if 0 <= page_num < len(reader.pages):\n",
    "                text += reader.pages[page_num].extract_text() + '\\n'\n",
    "            else:\n",
    "                print(f\"Page {page_num+1} is out of range.\")\n",
    "        return text\n",
    "    \n",
    "def split_sentence(text, language='english'):\n",
    "    return sent_tokenize(text, language=language)\n",
    "\n",
    "def align_and_export(en_sentences, vi_sentences, output_path):\n",
    "    max_len = max(len(en_sentences), len(vi_sentences))\n",
    "    # Padding\n",
    "    en_sentences += [''] * (max_len - len(en_sentences))\n",
    "    vi_sentences += [''] * (max_len - len(vi_sentences))\n",
    "    df =  pd.DataFrame({'English': en_sentences, 'Vietanemse': vi_sentences})\n",
    "    df.to_csv(output_path, index=False, encoding='utf-8')\n",
    "    print(f\"Aligned data exported to {output_path}\")"
   ]
  },
  {
   "cell_type": "code",
   "execution_count": 11,
   "id": "f59cc5e2",
   "metadata": {},
   "outputs": [],
   "source": [
    "en_pages = [2, 17]\n",
    "vi_pages = [3, 21]\n",
    "en_text = extract_text_from_pdf(raw_en_path, en_pages[0], en_pages[1])\n",
    "vi_text = extract_text_from_pdf(raw_vi_path, vi_pages[0], vi_pages[1])\n",
    "# en_sentences = split_sentence(en_text, language='english')\n",
    "# vi_sentences = split_sentence(vi_text, language='english')\n",
    "# align_and_export(en_sentences, vi_sentences, output_path)"
   ]
  },
  {
   "cell_type": "code",
   "execution_count": null,
   "id": "659c559f",
   "metadata": {},
   "outputs": [],
   "source": []
  }
 ],
 "metadata": {
  "kernelspec": {
   "display_name": "base-13",
   "language": "python",
   "name": "python3"
  },
  "language_info": {
   "codemirror_mode": {
    "name": "ipython",
    "version": 3
   },
   "file_extension": ".py",
   "mimetype": "text/x-python",
   "name": "python",
   "nbconvert_exporter": "python",
   "pygments_lexer": "ipython3",
   "version": "3.13.2"
  }
 },
 "nbformat": 4,
 "nbformat_minor": 5
}
