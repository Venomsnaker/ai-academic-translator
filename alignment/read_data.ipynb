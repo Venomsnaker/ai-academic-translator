{
 "cells": [
  {
   "cell_type": "code",
   "execution_count": 2,
   "id": "b3ae3bc9",
   "metadata": {},
   "outputs": [
    {
     "data": {
      "text/html": [
       "<div>\n",
       "<style scoped>\n",
       "    .dataframe tbody tr th:only-of-type {\n",
       "        vertical-align: middle;\n",
       "    }\n",
       "\n",
       "    .dataframe tbody tr th {\n",
       "        vertical-align: top;\n",
       "    }\n",
       "\n",
       "    .dataframe thead th {\n",
       "        text-align: right;\n",
       "    }\n",
       "</style>\n",
       "<table border=\"1\" class=\"dataframe\">\n",
       "  <thead>\n",
       "    <tr style=\"text-align: right;\">\n",
       "      <th></th>\n",
       "      <th>English</th>\n",
       "      <th>Vietanemse</th>\n",
       "    </tr>\n",
       "  </thead>\n",
       "  <tbody>\n",
       "    <tr>\n",
       "      <th>0</th>\n",
       "      <td>Tutorial on Diffusion Models for Imaging and V...</td>\n",
       "      <td>AI VIETNAM Ngày 26 tháng 2 năm 2025\\n1 Variati...</td>\n",
       "    </tr>\n",
       "    <tr>\n",
       "      <th>1</th>\n",
       "      <td>The astonishing growth of generative tools in ...</td>\n",
       "      <td>Mặc dù điều này có vẻ kỳ diệu lúc đầu, nhưng t...</td>\n",
       "    </tr>\n",
       "    <tr>\n",
       "      <th>2</th>\n",
       "      <td>The underlying principle behind\\nthese generat...</td>\n",
       "      <td>Để bắt đầu thảo luận trong bài hướng dẫn này, ...</td>\n",
       "    </tr>\n",
       "    <tr>\n",
       "      <th>3</th>\n",
       "      <td>The goal of this tutorial is to discuss the es...</td>\n",
       "      <td>VAE được đề xuất bởi Kingma và Welling\\nvào nă...</td>\n",
       "    </tr>\n",
       "    <tr>\n",
       "      <th>4</th>\n",
       "      <td>The target audience of this tutorial includes ...</td>\n",
       "      <td>Theo tài liệu hướng dẫn của họ vào năm 2019 [2...</td>\n",
       "    </tr>\n",
       "  </tbody>\n",
       "</table>\n",
       "</div>"
      ],
      "text/plain": [
       "                                             English  \\\n",
       "0  Tutorial on Diffusion Models for Imaging and V...   \n",
       "1  The astonishing growth of generative tools in ...   \n",
       "2  The underlying principle behind\\nthese generat...   \n",
       "3  The goal of this tutorial is to discuss the es...   \n",
       "4  The target audience of this tutorial includes ...   \n",
       "\n",
       "                                          Vietanemse  \n",
       "0  AI VIETNAM Ngày 26 tháng 2 năm 2025\\n1 Variati...  \n",
       "1  Mặc dù điều này có vẻ kỳ diệu lúc đầu, nhưng t...  \n",
       "2  Để bắt đầu thảo luận trong bài hướng dẫn này, ...  \n",
       "3  VAE được đề xuất bởi Kingma và Welling\\nvào nă...  \n",
       "4  Theo tài liệu hướng dẫn của họ vào năm 2019 [2...  "
      ]
     },
     "execution_count": 2,
     "metadata": {},
     "output_type": "execute_result"
    }
   ],
   "source": [
    "import pandas as pd\n",
    "\n",
    "data_path = '../data/processed/data_02.csv'\n",
    "\n",
    "df = pd.read_csv(data_path)\n",
    "df.head()"
   ]
  },
  {
   "cell_type": "code",
   "execution_count": null,
   "id": "04964a20",
   "metadata": {},
   "outputs": [],
   "source": []
  }
 ],
 "metadata": {
  "kernelspec": {
   "display_name": "base-13",
   "language": "python",
   "name": "python3"
  },
  "language_info": {
   "codemirror_mode": {
    "name": "ipython",
    "version": 3
   },
   "file_extension": ".py",
   "mimetype": "text/x-python",
   "name": "python",
   "nbconvert_exporter": "python",
   "pygments_lexer": "ipython3",
   "version": "3.13.2"
  }
 },
 "nbformat": 4,
 "nbformat_minor": 5
}
