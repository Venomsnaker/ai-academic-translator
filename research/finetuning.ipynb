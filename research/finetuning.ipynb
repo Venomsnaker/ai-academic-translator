{
 "cells": [
  {
   "cell_type": "markdown",
   "id": "254223a0",
   "metadata": {},
   "source": [
    "#### Reference\n",
    "https://colab.research.google.com/drive/1-Cg7L4yzCspmRjzJk_vP8G1m4SHNRwB4?usp=sharing\n",
    "\n",
    "#### Candidate Models\n",
    "- meta-llama/Llama-3.2-3B\n",
    "- google/flan-t5-small\n",
    "\n",
    "#### Set Up"
   ]
  },
  {
   "cell_type": "code",
   "execution_count": null,
   "id": "a764d3b5",
   "metadata": {},
   "outputs": [],
   "source": [
    "from transformers import AutoTokenizer, AutoModelForCausalLM, BitsAndBytesConfig, TrainingArguments\n",
    "from peft import prepare_model_for_kbit_training, LoraConfig, get_peft_model\n",
    "from datasets import load_dataset\n",
    "from trl import SFTTrainer\n",
    "import torch"
   ]
  },
  {
   "cell_type": "code",
   "execution_count": null,
   "id": "aa44111c",
   "metadata": {},
   "outputs": [],
   "source": [
    "import os\n",
    "from dotenv import load_dotenv\n",
    "from huggingface_hub import login\n",
    "\n",
    "load_dotenv()\n",
    "login(token=os.getenv('hugging_face_token'))"
   ]
  },
  {
   "cell_type": "markdown",
   "id": "093c1d89",
   "metadata": {},
   "source": [
    "#### Finetuning"
   ]
  },
  {
   "cell_type": "code",
   "execution_count": null,
   "id": "39a349f8",
   "metadata": {},
   "outputs": [],
   "source": [
    "from transformers import AutoTokenizer, AutoModelForCausalLM, BitsAndBytesConfig, TrainingArguments\n",
    "from peft import prepare_model_for_kbit_training, LoraConfig, get_peft_model\n",
    "from datasets import load_dataset\n",
    "from trl import SFTTrainer\n",
    "import torch"
   ]
  },
  {
   "cell_type": "code",
   "execution_count": null,
   "id": "1413cffb",
   "metadata": {},
   "outputs": [],
   "source": [
    "model_name = \"meta-llama/Llama-2-7b-hf\"\n",
    "\n",
    "compute_dtype = getattr(torch, \"float16\")\n",
    "bnb_config = BitsAndBytesConfig(load_in_4bit=True,\n",
    "            bnb_4bit_quant_type=\"nf4\",\n",
    "            bnb_4bit_compute_dtype=compute_dtype,\n",
    "            bnb_4bit_use_double_quant=True,\n",
    ")\n",
    "model = AutoModelForCausalLM.from_pretrained(model_name,quantization_config=bnb_config, device_map={\"\": 0})\n",
    "model = prepare_model_for_kbit_training(model)\n",
    "\n",
    "tokenizer = AutoTokenizer.from_pretrained(model_name, use_fast=True, add_eos_token=True)\n",
    "tokenizer.pad_token = tokenizer.unk_token\n",
    "tokenizer.padding_side = \"left\""
   ]
  },
  {
   "cell_type": "code",
   "execution_count": null,
   "id": "2f8486e2",
   "metadata": {},
   "outputs": [],
   "source": [
    "dataset = load_dataset(\"kaitchup/opus-French-to-English\")"
   ]
  },
  {
   "cell_type": "code",
   "execution_count": null,
   "id": "c269a58c",
   "metadata": {},
   "outputs": [],
   "source": [
    "peft_config = LoraConfig(\n",
    "            lora_alpha=16,\n",
    "            lora_dropout=0.05,\n",
    "            r=16,\n",
    "            bias=\"none\",\n",
    "            task_type=\"CAUSAL_LM\",\n",
    "            target_modules= [\"down_proj\",\"up_proj\",\"gate_proj\"]\n",
    ")"
   ]
  },
  {
   "cell_type": "code",
   "execution_count": null,
   "id": "307d33a5",
   "metadata": {},
   "outputs": [],
   "source": [
    "training_arguments = TrainingArguments(\n",
    "        output_dir=\"./results/\",\n",
    "        evaluation_strategy=\"steps\",\n",
    "        optim=\"paged_adamw_8bit\",\n",
    "        save_steps=500,\n",
    "        log_level=\"debug\",\n",
    "        logging_steps=500,\n",
    "        learning_rate=1e-4,\n",
    "        eval_steps=500,\n",
    "        fp16=True,\n",
    "        do_eval=True,\n",
    "        per_device_train_batch_size=96,\n",
    "        per_device_eval_batch_size=96,\n",
    "        #gradient_accumulation_steps=1,\n",
    "        warmup_steps=100,\n",
    "        max_steps=3000,\n",
    "        lr_scheduler_type=\"linear\"\n",
    ")"
   ]
  },
  {
   "cell_type": "code",
   "execution_count": null,
   "id": "9e355776",
   "metadata": {},
   "outputs": [],
   "source": [
    "trainer = SFTTrainer(\n",
    "        model=model,\n",
    "        train_dataset=dataset['train'],\n",
    "        eval_dataset=dataset['validation'],\n",
    "        peft_config=peft_config,\n",
    "        dataset_text_field=\"text\",\n",
    "        max_seq_length=120,\n",
    "        tokenizer=tokenizer,\n",
    "        args=training_arguments\n",
    ")\n",
    "\n",
    "trainer.train()"
   ]
  }
 ],
 "metadata": {
  "kernelspec": {
   "display_name": "base-13",
   "language": "python",
   "name": "python3"
  },
  "language_info": {
   "codemirror_mode": {
    "name": "ipython",
    "version": 3
   },
   "file_extension": ".py",
   "mimetype": "text/x-python",
   "name": "python",
   "nbconvert_exporter": "python",
   "pygments_lexer": "ipython3",
   "version": "3.13.2"
  }
 },
 "nbformat": 4,
 "nbformat_minor": 5
}
