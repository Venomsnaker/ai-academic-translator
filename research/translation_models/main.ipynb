{
 "cells": [
  {
   "cell_type": "markdown",
   "id": "cc7fa298",
   "metadata": {},
   "source": [
    "#### Reference\n",
    "- https://github.com/piegu/fastai-projects/blob/master/finetuning-English-GPT2-any-language-Portuguese-HuggingFace-fastaiv2.ipynb\n",
    "- https://ctujs.ctu.edu.vn/index.php/ctujs/article/view/1146/726\n",
    "- https://github.com/mlbvn/ml-yearning-vi/blob/main/chapters/book_en_vn.md\n",
    "- https://github.com/vietai/mtet"
   ]
  },
  {
   "cell_type": "code",
   "execution_count": null,
   "id": "7652ef2d",
   "metadata": {},
   "outputs": [],
   "source": []
  }
 ],
 "metadata": {
  "kernelspec": {
   "display_name": "base-13",
   "language": "python",
   "name": "python3"
  },
  "language_info": {
   "codemirror_mode": {
    "name": "ipython",
    "version": 3
   },
   "file_extension": ".py",
   "mimetype": "text/x-python",
   "name": "python",
   "nbconvert_exporter": "python",
   "pygments_lexer": "ipython3",
   "version": "3.13.2"
  }
 },
 "nbformat": 4,
 "nbformat_minor": 5
}
