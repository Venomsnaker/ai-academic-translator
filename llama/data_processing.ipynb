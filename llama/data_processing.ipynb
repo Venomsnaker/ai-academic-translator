{
 "cells": [
  {
   "cell_type": "code",
   "execution_count": 1,
   "id": "b409e88d",
   "metadata": {},
   "outputs": [
    {
     "data": {
      "text/html": [
       "<div>\n",
       "<style scoped>\n",
       "    .dataframe tbody tr th:only-of-type {\n",
       "        vertical-align: middle;\n",
       "    }\n",
       "\n",
       "    .dataframe tbody tr th {\n",
       "        vertical-align: top;\n",
       "    }\n",
       "\n",
       "    .dataframe thead th {\n",
       "        text-align: right;\n",
       "    }\n",
       "</style>\n",
       "<table border=\"1\" class=\"dataframe\">\n",
       "  <thead>\n",
       "    <tr style=\"text-align: right;\">\n",
       "      <th></th>\n",
       "      <th>en</th>\n",
       "      <th>vi</th>\n",
       "    </tr>\n",
       "  </thead>\n",
       "  <tbody>\n",
       "    <tr>\n",
       "      <th>0</th>\n",
       "      <td>introduction</td>\n",
       "      <td>giới thiệu</td>\n",
       "    </tr>\n",
       "    <tr>\n",
       "      <th>1</th>\n",
       "      <td>why machine learning strategy</td>\n",
       "      <td>tại sao cần chiến lược học máy</td>\n",
       "    </tr>\n",
       "    <tr>\n",
       "      <th>2</th>\n",
       "      <td>machine learning is the foundation of countles...</td>\n",
       "      <td>học máy là nền tảng cho hàng loạt ứng dụng qua...</td>\n",
       "    </tr>\n",
       "    <tr>\n",
       "      <th>3</th>\n",
       "      <td>i assume that you or your team is working on a...</td>\n",
       "      <td>nếu bạn cùng các thành viên trong nhóm đang là...</td>\n",
       "    </tr>\n",
       "    <tr>\n",
       "      <th>4</th>\n",
       "      <td>this book will help you do so</td>\n",
       "      <td>quyển sách này là dành cho bạn</td>\n",
       "    </tr>\n",
       "  </tbody>\n",
       "</table>\n",
       "</div>"
      ],
      "text/plain": [
       "                                                  en  \\\n",
       "0                                       introduction   \n",
       "1                      why machine learning strategy   \n",
       "2  machine learning is the foundation of countles...   \n",
       "3  i assume that you or your team is working on a...   \n",
       "4                      this book will help you do so   \n",
       "\n",
       "                                                  vi  \n",
       "0                                         giới thiệu  \n",
       "1                     tại sao cần chiến lược học máy  \n",
       "2  học máy là nền tảng cho hàng loạt ứng dụng qua...  \n",
       "3  nếu bạn cùng các thành viên trong nhóm đang là...  \n",
       "4                     quyển sách này là dành cho bạn  "
      ]
     },
     "execution_count": 1,
     "metadata": {},
     "output_type": "execute_result"
    }
   ],
   "source": [
    "import pandas as pd\n",
    "\n",
    "df = pd.read_csv('../data/data_01.csv')\n",
    "df.head()"
   ]
  },
  {
   "cell_type": "markdown",
   "id": "800782e1",
   "metadata": {},
   "source": [
    "#### Encoding\n",
    "Format for each line: `en: vi`"
   ]
  },
  {
   "cell_type": "code",
   "execution_count": 2,
   "id": "91ca3405",
   "metadata": {},
   "outputs": [
    {
     "data": {
      "text/html": [
       "<div>\n",
       "<style scoped>\n",
       "    .dataframe tbody tr th:only-of-type {\n",
       "        vertical-align: middle;\n",
       "    }\n",
       "\n",
       "    .dataframe tbody tr th {\n",
       "        vertical-align: top;\n",
       "    }\n",
       "\n",
       "    .dataframe thead th {\n",
       "        text-align: right;\n",
       "    }\n",
       "</style>\n",
       "<table border=\"1\" class=\"dataframe\">\n",
       "  <thead>\n",
       "    <tr style=\"text-align: right;\">\n",
       "      <th></th>\n",
       "      <th>en</th>\n",
       "      <th>vi</th>\n",
       "      <th>encoding</th>\n",
       "    </tr>\n",
       "  </thead>\n",
       "  <tbody>\n",
       "    <tr>\n",
       "      <th>0</th>\n",
       "      <td>introduction</td>\n",
       "      <td>giới thiệu</td>\n",
       "      <td>introduction: giới thiệu</td>\n",
       "    </tr>\n",
       "    <tr>\n",
       "      <th>1</th>\n",
       "      <td>why machine learning strategy</td>\n",
       "      <td>tại sao cần chiến lược học máy</td>\n",
       "      <td>why machine learning strategy: tại sao cần chi...</td>\n",
       "    </tr>\n",
       "    <tr>\n",
       "      <th>2</th>\n",
       "      <td>machine learning is the foundation of countles...</td>\n",
       "      <td>học máy là nền tảng cho hàng loạt ứng dụng qua...</td>\n",
       "      <td>machine learning is the foundation of countles...</td>\n",
       "    </tr>\n",
       "    <tr>\n",
       "      <th>3</th>\n",
       "      <td>i assume that you or your team is working on a...</td>\n",
       "      <td>nếu bạn cùng các thành viên trong nhóm đang là...</td>\n",
       "      <td>i assume that you or your team is working on a...</td>\n",
       "    </tr>\n",
       "    <tr>\n",
       "      <th>4</th>\n",
       "      <td>this book will help you do so</td>\n",
       "      <td>quyển sách này là dành cho bạn</td>\n",
       "      <td>this book will help you do so: quyển sách này ...</td>\n",
       "    </tr>\n",
       "  </tbody>\n",
       "</table>\n",
       "</div>"
      ],
      "text/plain": [
       "                                                  en  \\\n",
       "0                                       introduction   \n",
       "1                      why machine learning strategy   \n",
       "2  machine learning is the foundation of countles...   \n",
       "3  i assume that you or your team is working on a...   \n",
       "4                      this book will help you do so   \n",
       "\n",
       "                                                  vi  \\\n",
       "0                                         giới thiệu   \n",
       "1                     tại sao cần chiến lược học máy   \n",
       "2  học máy là nền tảng cho hàng loạt ứng dụng qua...   \n",
       "3  nếu bạn cùng các thành viên trong nhóm đang là...   \n",
       "4                     quyển sách này là dành cho bạn   \n",
       "\n",
       "                                            encoding  \n",
       "0                           introduction: giới thiệu  \n",
       "1  why machine learning strategy: tại sao cần chi...  \n",
       "2  machine learning is the foundation of countles...  \n",
       "3  i assume that you or your team is working on a...  \n",
       "4  this book will help you do so: quyển sách này ...  "
      ]
     },
     "execution_count": 2,
     "metadata": {},
     "output_type": "execute_result"
    }
   ],
   "source": [
    "df['encoding'] = df['en'] + ': ' +  df['vi']\n",
    "df.head()"
   ]
  },
  {
   "cell_type": "code",
   "execution_count": 3,
   "id": "a8139c02",
   "metadata": {},
   "outputs": [],
   "source": [
    "df.to_csv(\"../data/data_01_processed.csv\")"
   ]
  }
 ],
 "metadata": {
  "kernelspec": {
   "display_name": "base-13",
   "language": "python",
   "name": "python3"
  },
  "language_info": {
   "codemirror_mode": {
    "name": "ipython",
    "version": 3
   },
   "file_extension": ".py",
   "mimetype": "text/x-python",
   "name": "python",
   "nbconvert_exporter": "python",
   "pygments_lexer": "ipython3",
   "version": "3.13.2"
  }
 },
 "nbformat": 4,
 "nbformat_minor": 5
}
