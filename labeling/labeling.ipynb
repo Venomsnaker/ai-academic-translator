{
 "cells": [
  {
   "cell_type": "markdown",
   "id": "15d481af",
   "metadata": {},
   "source": [
    "#### Set Up"
   ]
  },
  {
   "cell_type": "code",
   "execution_count": null,
   "id": "da45e88c",
   "metadata": {},
   "outputs": [],
   "source": [
    "import os\n",
    "from utils import OpenAIClient\n",
    "from dotenv import load_dotenv\n",
    "\n",
    "load_dotenv()\n",
    "openai_client = OpenAIClient(api_key=os.getenv('OPENAI_API_KEY'))"
   ]
  },
  {
   "cell_type": "code",
   "execution_count": null,
   "id": "f0f3b892",
   "metadata": {},
   "outputs": [],
   "source": [
    "import json\n",
    "\n",
    "raw_texts_en_path = '../data/raw_texts_en.json'\n",
    "raw_texts_vi_path = '../data/raw_texts_vi.json'\n",
    "\n",
    "raw_texts_en = []\n",
    "raw_texts_vi = []\n",
    "\n",
    "with open(raw_texts_en_path) as f:\n",
    "    raw_texts_en = json.load(f)\n",
    "\n",
    "with open(raw_texts_vi_path) as f:\n",
    "    raw_texts_vi = json.load(f)"
   ]
  },
  {
   "cell_type": "code",
   "execution_count": null,
   "id": "e5ab5537",
   "metadata": {},
   "outputs": [],
   "source": [
    "with open('alignment_prompt.txt', 'r') as f:\n",
    "    alignment_prompt = f.read()"
   ]
  },
  {
   "cell_type": "markdown",
   "id": "4607ea9f",
   "metadata": {},
   "source": [
    "#### Labeling"
   ]
  },
  {
   "cell_type": "code",
   "execution_count": null,
   "id": "8041a26a",
   "metadata": {},
   "outputs": [],
   "source": [
    "en_segmentations = [2, 5, 10, 17, 18, 25, 30, 34, 37, 39, 43, 44, 48, 49, 53, 54, 56, 58, 63, 64, 66, 73, 77, 81, 86, 87, 87]\n",
    "vi_segmentations = [3, 7, 13, 20, 22, 30, 37, 41, 45, 48, 52, 53, 58, 60, 65, 66, 69, 71, 78, 80, 81, 90, 95, 98, 105, 106, 106]\n",
    "\n",
    "en_segmentations_test = [2, 5, 10]\n",
    "vi_segmentations_test = [3, 7, 13]\n",
    "\n",
    "assert len(en_segmentations) == len(vi_segmentations)"
   ]
  },
  {
   "cell_type": "code",
   "execution_count": null,
   "id": "c23f9400",
   "metadata": {},
   "outputs": [],
   "source": [
    "from tqdm import tqdm\n",
    "\n",
    "def get_texts_in_range(raw_texts, start_page, end_page):\n",
    "    return \" \".join(\n",
    "        entry['texts'] for entry in raw_texts\n",
    "        if start_page <= entry['page_id'] <= end_page\n",
    "    )\n",
    "\n",
    "for i in tqdm(range(len(en_segmentations_test) - 1)):\n",
    "    en_range = (en_segmentations_test[i], en_segmentations_test[i + 1])\n",
    "    vi_range = (vi_segmentations_test[i], vi_segmentations_test[i + 1])\n",
    "    \n",
    "    texts_en_curr = get_texts_in_range(raw_texts_en, *en_range)\n",
    "    texts_vi_curr = get_texts_in_range(raw_texts_vi, *vi_range)\n",
    "    prompt = alignment_prompt.format(en_text=texts_en_curr, vi_text=texts_vi_curr)\n",
    "    print(prompt)"
   ]
  }
 ],
 "metadata": {
  "kernelspec": {
   "display_name": "base-13",
   "language": "python",
   "name": "python3"
  },
  "language_info": {
   "codemirror_mode": {
    "name": "ipython",
    "version": 3
   },
   "file_extension": ".py",
   "mimetype": "text/x-python",
   "name": "python",
   "nbconvert_exporter": "python",
   "pygments_lexer": "ipython3",
   "version": "3.13.2"
  }
 },
 "nbformat": 4,
 "nbformat_minor": 5
}
