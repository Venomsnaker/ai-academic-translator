{
 "cells": [
  {
   "cell_type": "markdown",
   "id": "5fa6db46",
   "metadata": {},
   "source": [
    "#### Set Up"
   ]
  },
  {
   "cell_type": "code",
   "execution_count": 1,
   "id": "f16ea038",
   "metadata": {},
   "outputs": [],
   "source": [
    "import json\n",
    "from pdf2image import convert_from_path\n",
    "from pytesseract import image_to_string\n",
    "\n",
    "raw_en_path = \"../data/diffusion_en.pdf\"\n",
    "raw_vi_path = \"../data/diffusion_vi.pdf\"\n",
    "\n",
    "output_en_path = '../data/raw_texts_en.json'\n",
    "output_vi_path = '../data/raw_texts_vi.json'"
   ]
  },
  {
   "cell_type": "markdown",
   "id": "92395040",
   "metadata": {},
   "source": [
    "#### OCR"
   ]
  },
  {
   "cell_type": "code",
   "execution_count": 2,
   "id": "fabc3abb",
   "metadata": {},
   "outputs": [],
   "source": [
    "# Extract images\n",
    "en_start_index = 2\n",
    "en_end_index = 5\n",
    "\n",
    "vi_start_index = 3\n",
    "vi_end_index = 7\n",
    "\n",
    "imgs_en = convert_from_path(raw_en_path, first_page=en_start_index)\n",
    "imgs_vi = convert_from_path(raw_vi_path, first_page=vi_start_index)\n",
    "\n",
    "def crop_image(image, crop_percent=0.1):\n",
    "    width, height = image.size\n",
    "    crop_start = int(height * crop_percent)\n",
    "    crop_end = int(height * (1-crop_percent))\n",
    "    return image.crop((0, crop_start, width, crop_end))\n",
    "\n",
    "def extract_clean_sentences(image):\n",
    "    text = image_to_string(image, lang='eng+vie')\n",
    "    return text"
   ]
  },
  {
   "cell_type": "code",
   "execution_count": 3,
   "id": "f8b1e041",
   "metadata": {},
   "outputs": [],
   "source": [
    "en_texts = []\n",
    "\n",
    "for img in imgs_en:\n",
    "    img_cropped = crop_image(img)\n",
    "    text_en = extract_clean_sentences(img_cropped)\n",
    "    en_texts.append({'page_id': en_start_index, 'texts': text_en})\n",
    "    en_start_index += 1\n",
    "\n",
    "with open(output_en_path, \"w\") as f:\n",
    "    json.dump(en_texts, f)"
   ]
  },
  {
   "cell_type": "code",
   "execution_count": 4,
   "id": "ea236395",
   "metadata": {},
   "outputs": [],
   "source": [
    "vi_texts = []\n",
    "\n",
    "for img in imgs_vi:\n",
    "    img_cropped = crop_image(img)\n",
    "    text_vi = extract_clean_sentences(img_cropped)\n",
    "    vi_texts.append({'page_id': vi_start_index, 'texts': text_vi})\n",
    "    vi_start_index += 1\n",
    "\n",
    "with open(output_vi_path, \"w\", encoding='utf-8') as f:\n",
    "    json.dump(vi_texts, f, ensure_ascii=False)"
   ]
  }
 ],
 "metadata": {
  "kernelspec": {
   "display_name": "base-13",
   "language": "python",
   "name": "python3"
  },
  "language_info": {
   "codemirror_mode": {
    "name": "ipython",
    "version": 3
   },
   "file_extension": ".py",
   "mimetype": "text/x-python",
   "name": "python",
   "nbconvert_exporter": "python",
   "pygments_lexer": "ipython3",
   "version": "3.13.2"
  }
 },
 "nbformat": 4,
 "nbformat_minor": 5
}
